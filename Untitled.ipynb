{
 "cells": [
  {
   "cell_type": "code",
   "execution_count": 2,
   "metadata": {
    "collapsed": true
   },
   "outputs": [],
   "source": [
    "import numpy as np\n",
    "import pandas as pd\n",
    "import matplotlib.pyplot as pp"
   ]
  },
  {
   "cell_type": "code",
   "execution_count": 19,
   "metadata": {
    "collapsed": true
   },
   "outputs": [],
   "source": [
    "from matplotlib.colors import ListedColormap\n",
    "def drawClassification(X, Y, predictor, resolution, label_names):\n",
    "    colors = [\"red\", \"blue\"]\n",
    "    cmap = ListedColormap(colors)\n",
    "    markers = [\"o\", \"x\"]\n",
    "    x1_min, x1_max = np.min(X[:,0]) - 1, np.max(X[:, 0]) + 1\n",
    "    x2_min, x2_max = np.min(X[:,1]) - 1, np.max(X[:,1]) + 1\n",
    "    x, y = np.meshgrid(np.arange(x1_min, x1_max, resolution), np.arange(x2_min, x2_max, resolution))\n",
    "    Z = predictor(np.array([x.ravel(), y.ravel()]).T)\n",
    "    Z = Z.reshape(x.shape)\n",
    "    pp.contourf(x,y,Z,alpha=0.4,cmap=cmap)\n",
    "    pp.xlim(x.min(), x.max())\n",
    "    pp.ylim(y.min(), y.max())\n",
    "    \n",
    "    ## plot points\n",
    "    for idx, y in enumerate(np.unique(Y)):\n",
    "        pp.scatter(X[Y==y, 0], X[Y==y, 1], color=colors[idx], marker = markers[idx], label=label_names[y])\n",
    "        \n",
    "    \n",
    "def plot_errors(errors):\n",
    "    x = range(len(errors))\n",
    "    pp.plot(x, errors, color=\"blue\", marker=\"o\")\n",
    "    pp.xlabel(\"epoch number\")\n",
    "    pp.ylabel(\"mean squared error\")\n",
    "    "
   ]
  },
  {
   "cell_type": "code",
   "execution_count": 21,
   "metadata": {
    "collapsed": true
   },
   "outputs": [],
   "source": [
    "def accuracy(predicted, actual):\n",
    "    return np.sum(np.where(predicted != actual, 0, 1)) / float(actual.size)\n",
    "\n",
    "class Perceptron(object):\n",
    "    def __init__(self, eta, n_iter):\n",
    "        self.eta = eta\n",
    "        self.n_iter = n_iter\n",
    "        \n",
    "    def fit(self, X, Y):\n",
    "        n_iter = 0\n",
    "        self.w = np.zeros(1+X.shape[1])\n",
    "        errors = []\n",
    "        for _ in range(self.n_iter):\n",
    "            n_iter += 1\n",
    "            error = 0\n",
    "            for x, y in zip(X,Y):\n",
    "                update = self.eta * (y - self.predict(x))\n",
    "                self.w[1:] += update * x\n",
    "                self.w[0] += update\n",
    "                error += int(update != 0)\n",
    "            errors.append(error)\n",
    "            if error == 0:\n",
    "                break\n",
    "        return errors\n",
    "    \n",
    "    def net_response(self, X):\n",
    "        return np.dot(X, self.w[1:]) + self.w[0]\n",
    "    \n",
    "    def predict(self, X):\n",
    "        return np.where(self.net_response(X) > 0, 1, -1)\n",
    "    \n",
    "\n",
    "class AdapNeuron(object):\n",
    "    \n",
    "    def __init__(self, eta, n_iter):\n",
    "        self.eta = eta\n",
    "        self.n_iter = n_iter\n",
    "        \n",
    "    def fit(self, X, Y):\n",
    "        self.w = np.zeros(1+X.shape[1])\n",
    "        errors = []\n",
    "        for _ in range(self.n_iter):\n",
    "            diff = Y - self.net_response(X)\n",
    "            self.w[1:] += self.eta * X.T.dot(diff)\n",
    "            self.w[0] += self.eta * diff.sum()\n",
    "            errors.append(0.5 * np.dot(diff, diff))\n",
    "        return errors\n",
    "    \n",
    "    def net_response(self, X):\n",
    "        return np.dot(X, self.w[1:]) + self.w[0]\n",
    "    \n",
    "    def predict(self, X):\n",
    "        return np.where(self.net_response(X) >= 0.0, 1, -1)\n",
    "    \n",
    "        "
   ]
  },
  {
   "cell_type": "code",
   "execution_count": 6,
   "metadata": {
    "collapsed": true
   },
   "outputs": [],
   "source": [
    "df = pd.read_csv('https://archive.ics.uci.edu/ml/machine-learning-databases/iris/iris.data', header=None)"
   ]
  },
  {
   "cell_type": "code",
   "execution_count": 8,
   "metadata": {
    "collapsed": true
   },
   "outputs": [],
   "source": [
    "setosa = df[df[4] == 'Iris-setosa']\n",
    "versicolor = df[df[4] == 'Iris-versicolor']\n",
    "\n",
    "X_train = np.vstack((setosa.iloc[:40,[0,2]],versicolor.iloc[:40,[0,2]]))\n",
    "Y_train = np.hstack((np.ones(40), -np.ones(40)))\n",
    "X_test = np.vstack((setosa.iloc[40:,[0,2]],versicolor.iloc[40:,[0,2]]))\n",
    "Y_test = np.hstack((np.ones(10), -np.ones(10)))\n"
   ]
  },
  {
   "cell_type": "code",
   "execution_count": 1,
   "metadata": {},
   "outputs": [
    {
     "ename": "NameError",
     "evalue": "name 'Perceptron' is not defined",
     "output_type": "error",
     "traceback": [
      "\u001b[1;31m---------------------------------------------------------------------------\u001b[0m",
      "\u001b[1;31mNameError\u001b[0m                                 Traceback (most recent call last)",
      "\u001b[1;32m<ipython-input-1-341340567f3d>\u001b[0m in \u001b[0;36m<module>\u001b[1;34m()\u001b[0m\n\u001b[1;32m----> 1\u001b[1;33m \u001b[0mperc\u001b[0m \u001b[1;33m=\u001b[0m \u001b[0mPerceptron\u001b[0m\u001b[1;33m(\u001b[0m\u001b[0meta\u001b[0m \u001b[1;33m=\u001b[0m \u001b[1;36m0.1\u001b[0m\u001b[1;33m,\u001b[0m \u001b[0mn_iter\u001b[0m \u001b[1;33m=\u001b[0m \u001b[1;36m10\u001b[0m\u001b[1;33m)\u001b[0m\u001b[1;33m\u001b[0m\u001b[0m\n\u001b[0m\u001b[0;32m      2\u001b[0m \u001b[0mada\u001b[0m \u001b[1;33m=\u001b[0m \u001b[0mAdapNeuron\u001b[0m\u001b[1;33m(\u001b[0m\u001b[0meta\u001b[0m \u001b[1;33m=\u001b[0m \u001b[1;36m0.0001\u001b[0m\u001b[1;33m,\u001b[0m \u001b[0mn_iter\u001b[0m\u001b[1;33m=\u001b[0m\u001b[1;36m60\u001b[0m\u001b[1;33m)\u001b[0m\u001b[1;33m\u001b[0m\u001b[0m\n\u001b[0;32m      3\u001b[0m \u001b[0malg\u001b[0m \u001b[1;33m=\u001b[0m \u001b[0mperc\u001b[0m\u001b[1;33m\u001b[0m\u001b[0m\n\u001b[0;32m      4\u001b[0m \u001b[0merrors\u001b[0m \u001b[1;33m=\u001b[0m \u001b[0malg\u001b[0m\u001b[1;33m.\u001b[0m\u001b[0mfit\u001b[0m\u001b[1;33m(\u001b[0m\u001b[0mX_train\u001b[0m\u001b[1;33m,\u001b[0m \u001b[0mY_train\u001b[0m\u001b[1;33m)\u001b[0m\u001b[1;33m\u001b[0m\u001b[0m\n\u001b[0;32m      5\u001b[0m \u001b[0mpredicted\u001b[0m \u001b[1;33m=\u001b[0m \u001b[0malg\u001b[0m\u001b[1;33m.\u001b[0m\u001b[0mpredict\u001b[0m\u001b[1;33m(\u001b[0m\u001b[0mX_test\u001b[0m\u001b[1;33m)\u001b[0m\u001b[1;33m\u001b[0m\u001b[0m\n",
      "\u001b[1;31mNameError\u001b[0m: name 'Perceptron' is not defined"
     ]
    }
   ],
   "source": [
    "perc = Perceptron(eta = 0.1, n_iter = 10)\n",
    "ada = AdapNeuron(eta = 0.0001, n_iter=60)\n",
    "alg = perc\n",
    "errors = alg.fit(X_train, Y_train)\n",
    "predicted = alg.predict(X_test)\n",
    "acc = accuracy(predicted, Y_test)\n",
    "plot_errors(errors)\n",
    "print(\"\\nacc: \" + str(acc))\n"
   ]
  },
  {
   "cell_type": "code",
   "execution_count": 137,
   "metadata": {},
   "outputs": [
    {
     "data": {
      "text/plain": [
       "<matplotlib.legend.Legend at 0xd10f940>"
      ]
     },
     "execution_count": 137,
     "metadata": {},
     "output_type": "execute_result"
    }
   ],
   "source": [
    "X = np.vstack((X_train, X_test))\n",
    "Y = np.hstack((Y_train, Y_test))\n",
    "drawClassification(X, Y, perc.predict, 0.002, {1:\"setosa\", -1:\"versicolor\"})\n",
    "pp.xlabel(\"sepal length\")\n",
    "pp.ylabel(\"petal length\")\n",
    "pp.legend(loc=\"upper left\")"
   ]
  },
  {
   "cell_type": "code",
   "execution_count": null,
   "metadata": {
    "collapsed": true
   },
   "outputs": [],
   "source": []
  }
 ],
 "metadata": {
  "kernelspec": {
   "display_name": "Python 2",
   "language": "python",
   "name": "python2"
  },
  "language_info": {
   "codemirror_mode": {
    "name": "ipython",
    "version": 2
   },
   "file_extension": ".py",
   "mimetype": "text/x-python",
   "name": "python",
   "nbconvert_exporter": "python",
   "pygments_lexer": "ipython2",
   "version": "2.7.13"
  }
 },
 "nbformat": 4,
 "nbformat_minor": 2
}
